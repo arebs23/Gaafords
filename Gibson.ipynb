{
 "cells": [
  {
   "cell_type": "code",
   "execution_count": 1,
   "metadata": {},
   "outputs": [],
   "source": [
    "# Imports\n",
    "import openai\n",
    "import os\n",
    "import requests\n",
    "from utils import check_affordance_func\n",
    "\n",
    "# Notebook Imports\n",
    "from IPython.display import Image\n",
    "from IPython.display import display\n",
    "import matplotlib.pyplot as plt\n",
    "import matplotlib.image as mpimg\n",
    "import random\n",
    "from utils import generate_image\n",
    "from utils import get_completion\n",
    "from pathlib import Path\n",
    "from segment import GibsonSAM\n",
    "from config import CLASSES\n",
    "from dataclasses import dataclass\n"
   ]
  },
  {
   "cell_type": "code",
   "execution_count": null,
   "metadata": {},
   "outputs": [],
   "source": [
    "@dataclass\n",
    "class ModelConfig:\n",
    "    HOME: str = \"/home/aregbs/Desktop/gibson-afford\"\n",
    "    GROUNDING_DINO_CONFIG_PATH: str = os.path.join(HOME, \"GroundingDINO/groundingdino/config/GroundingDINO_SwinT_OGC.py\")\n",
    "    GROUNDING_DINO_CHECKPOINT_PATH: str = os.path.join(HOME, \"weights\", \"groundingdino_swint_ogc.pth\")\n",
    "    SAM_CHECKPOINT_PATH: str = os.path.join(HOME, \"weights\", \"sam_vit_h_4b8939.pth\")\n",
    "    SAM_ENCODER_VERSION: str = \"vit_h\"\n",
    "    "
   ]
  },
  {
   "cell_type": "code",
   "execution_count": 2,
   "metadata": {},
   "outputs": [],
   "source": [
    "os.environ['OPENAI_API_KEY'] = \"\"\n",
    "openai.api_key = os.getenv(\"OPENAI_API_KEY\")"
   ]
  },
  {
   "cell_type": "code",
   "execution_count": 3,
   "metadata": {},
   "outputs": [],
   "source": [
    "object = \"pot\", \"plate\", \"apple\", \"tomatoes\", \"knife\", \"bowl\", \"mug\",\"onion\"\n",
    "object_scene = \"kitchen\""
   ]
  },
  {
   "cell_type": "code",
   "execution_count": 16,
   "metadata": {},
   "outputs": [],
   "source": [
    "prompt = f\"\"\"You are a prompt generator generate 10 prompts based strictly on the template\"\"\"\n",
    "# Define your template\n",
    "template = \"\"\"\n",
    "        a {object_scene} with {object}, {object} and an {object}, {object},\n",
    "        a {object}, a {object} and an {object} on a {object} {object_scene},\n",
    "        an {object} on a {object}, a {object}  and a {object} separate, {object_scene}\n",
    "        \n",
    "        object = \"pot\", \"plate\", \"apple\", \"tomatoe\", \"knife\", \"bowl\", \"2\n",
    "        object_scene = \"kitchen\"\n",
    "        \"\"\""
   ]
  },
  {
   "cell_type": "code",
   "execution_count": null,
   "metadata": {},
   "outputs": [],
   "source": [
    "\"egg\", \"bowl\", \"pot\", \"plate\", \"mug\", \"glass cup\", \"knife\",\"apple\",\"onion\",\"tomatoe\",\"fork\", \"spoon\""
   ]
  },
  {
   "cell_type": "code",
   "execution_count": 17,
   "metadata": {},
   "outputs": [
    {
     "data": {
      "text/plain": [
       "'\\n        a {object_scene} with {object}, {object} and an {object}, {object},\\n        a {object}, a {object} and an {object} on a {object} {object_scene},\\n        an {object} on a {object}, a {object}  and a {object} separate, {object_scene}\\n        \\n        object = \"pencil\", \"laptop\", \"book\", \"scissors\", \"water bottle\", \"mug\"\\n        object_scene = \"office\"\\n        '"
      ]
     },
     "execution_count": 17,
     "metadata": {},
     "output_type": "execute_result"
    }
   ],
   "source": [
    "template"
   ]
  },
  {
   "cell_type": "code",
   "execution_count": 18,
   "metadata": {},
   "outputs": [],
   "source": [
    "prompts = get_completion(template=template, prompt=prompt)"
   ]
  },
  {
   "cell_type": "code",
   "execution_count": 19,
   "metadata": {},
   "outputs": [
    {
     "data": {
      "text/plain": [
       "[{'label': 1,\n",
       "  'prompt': 'A cluttered office desk with a pencil, laptop, book, scissors, and a water bottle.'},\n",
       " {'label': 2,\n",
       "  'prompt': 'A sleek laptop, a worn book, and a colorful mug on a wooden desk in an office.'},\n",
       " {'label': 3,\n",
       "  'prompt': 'An open book, a sharp pair of scissors, and a half-empty water bottle on a glass desk in an office.'},\n",
       " {'label': 4,\n",
       "  'prompt': 'A pencil, a laptop, and a mug on a messy desk in an office.'},\n",
       " {'label': 5,\n",
       "  'prompt': 'A closed book, a shiny pair of scissors, and a full water bottle on a metal desk in an office.'},\n",
       " {'label': 6,\n",
       "  'prompt': 'A laptop, a pencil, and a mug on a wooden desk in an office.'},\n",
       " {'label': 7,\n",
       "  'prompt': 'A water bottle on a glass desk, a book on a wooden shelf, and a pair of scissors on a metal filing cabinet in an office.'},\n",
       " {'label': 8,\n",
       "  'prompt': 'A pencil, a laptop, and a book on a cluttered desk in an office.'},\n",
       " {'label': 9,\n",
       "  'prompt': 'A mug, a water bottle, and a pair of scissors on a wooden desk in an office.'},\n",
       " {'label': 10,\n",
       "  'prompt': 'An open book on a wooden desk, a laptop on a metal filing cabinet, and a pencil on a glass shelf in an office.'}]"
      ]
     },
     "execution_count": 19,
     "metadata": {},
     "output_type": "execute_result"
    }
   ],
   "source": [
    "prompts"
   ]
  },
  {
   "cell_type": "code",
   "execution_count": null,
   "metadata": {},
   "outputs": [],
   "source": [
    "output_folder = \"data\"\n",
    "base_images_number = 2\n",
    "variation_per_image = 1\n",
    "# Check if output directory for noisey files exists and create it if it doesn't\n",
    "DATA_DIR = Path.cwd() / output_folder\n",
    "\n",
    "DATA_DIR.mkdir(exist_ok=True)"
   ]
  },
  {
   "cell_type": "code",
   "execution_count": null,
   "metadata": {},
   "outputs": [],
   "source": [
    "generate_image(base_images_number=base_images_number, labels=prompts, output_folder=DATA_DIR, variation_per_image=variation_per_image)"
   ]
  },
  {
   "cell_type": "code",
   "execution_count": null,
   "metadata": {},
   "outputs": [],
   "source": [
    "image_path= \"/home/aregbs/Desktop/gibson-afford/gen_data/out_door/1.HIl3wG8RIwImzWXhe3hKFMIGKPc%3D.png\"\n",
    "output_folder = \"mask_outdoor\"\n",
    "DATA_DIR = Path.cwd() / output_folder\n",
    "\n",
    "DATA_DIR.mkdir(exist_ok=True)\n",
    "\n",
    "gibson = GibsonSAM(image_path, CLASSES, model_config= ModelConfig())\n",
    "labels = gibson.get_image_annotations(DATA_DIR)\n"
   ]
  },
  {
   "cell_type": "code",
   "execution_count": null,
   "metadata": {},
   "outputs": [],
   "source": [
    "labels"
   ]
  },
  {
   "cell_type": "code",
   "execution_count": null,
   "metadata": {},
   "outputs": [],
   "source": [
    "objects_string = \", \".join(labels)"
   ]
  },
  {
   "cell_type": "code",
   "execution_count": null,
   "metadata": {},
   "outputs": [],
   "source": [
    "objects_string"
   ]
  },
  {
   "cell_type": "code",
   "execution_count": null,
   "metadata": {},
   "outputs": [],
   "source": [
    "labels = ['apple', 'banana', 'rubber plate', 'mug']"
   ]
  },
  {
   "cell_type": "code",
   "execution_count": null,
   "metadata": {},
   "outputs": [],
   "source": [
    "task = \"Generate prompts based on the affordance in this format: {action} the {objects} \""
   ]
  },
  {
   "cell_type": "code",
   "execution_count": null,
   "metadata": {},
   "outputs": [],
   "source": [
    "affordance = check_affordance_func(objects=labels, query_template= query_template, task=task)"
   ]
  },
  {
   "cell_type": "code",
   "execution_count": null,
   "metadata": {},
   "outputs": [],
   "source": [
    "affordances = [item.strip()[3:] for item in affordance.split('\\n') if item.strip() != '']"
   ]
  },
  {
   "cell_type": "code",
   "execution_count": null,
   "metadata": {},
   "outputs": [],
   "source": [
    "affordances"
   ]
  },
  {
   "cell_type": "code",
   "execution_count": null,
   "metadata": {},
   "outputs": [],
   "source": [
    "def process_dalle_images(response, filename, image_dir):\n",
    "    # save the images\n",
    "    urls = [datum[\"url\"] for datum in response[\"data\"]]  # extract URLs\n",
    "    images = [requests.get(url).content for url in urls]  # download images\n",
    "    image_names = [f\"{filename}_{i + 1}.png\" for i in range(len(images))]  # create names\n",
    "    filepaths = [os.path.join(image_dir, name) for name in image_names]  # create filepaths\n",
    "    for image, filepath in zip(images, filepaths):  # loop through the variations\n",
    "        with open(filepath, \"wb\") as image_file:  # open the file\n",
    "            image_file.write(image)  # write the image to the file\n",
    "\n",
    "    return filepaths"
   ]
  },
  {
   "cell_type": "code",
   "execution_count": null,
   "metadata": {},
   "outputs": [],
   "source": [
    "from pathlib import PosixPath\n",
    "\n",
    "paths = Path(\"/home/aregbs/Desktop/gibson-afford/gen_data/mask_outdoor\")\n",
    "paths = list(paths.iterdir())\n",
    "mapped_data = []\n",
    "for affordance in affordances:\n",
    "    split_affordance = affordance.split(' ')\n",
    "    object_name = split_affordance[2]\n",
    "    matching_paths = [str(path) for path in paths if path.stem == object_name]\n",
    "    for path in matching_paths:\n",
    "        edit = {'prompt': affordance, 'mask_path': path}\n",
    "        mapped_data.append(edit)\n",
    "\n",
    "print(mapped_data)\n"
   ]
  },
  {
   "cell_type": "code",
   "execution_count": null,
   "metadata": {},
   "outputs": [],
   "source": [
    "for i, edit in enumerate(mapped_data):\n",
    "    prompt = edit[\"prompt\"]\n",
    "    mask_path = edit[\"mask_path\"]\n",
    "\n",
    "    edit_response = openai.Image.create_edit(\n",
    "        image=open(image_path, \"rb\"),\n",
    "       mask=open(mask_path, \"rb\"), \n",
    "        prompt=prompt,\n",
    "        size=\"256x256\",\n",
    "        response_format=\"url\"\n",
    "    )\n",
    "\n",
    "    edit_filepaths = process_dalle_images(edit_response, f\"Image_{prompt}\", DATA_DIR)"
   ]
  },
  {
   "cell_type": "code",
   "execution_count": null,
   "metadata": {},
   "outputs": [],
   "source": [
    "\"/home/aregbs/Desktop/gibson-afford/gen_data/\"[:]"
   ]
  },
  {
   "cell_type": "code",
   "execution_count": null,
   "metadata": {},
   "outputs": [],
   "source": [
    "image_path[-1]"
   ]
  },
  {
   "cell_type": "code",
   "execution_count": null,
   "metadata": {},
   "outputs": [],
   "source": [
    "[-1] == \"/\""
   ]
  }
 ],
 "metadata": {
  "kernelspec": {
   "display_name": "Gaffords",
   "language": "python",
   "name": "python3"
  },
  "language_info": {
   "codemirror_mode": {
    "name": "ipython",
    "version": 3
   },
   "file_extension": ".py",
   "mimetype": "text/x-python",
   "name": "python",
   "nbconvert_exporter": "python",
   "pygments_lexer": "ipython3",
   "version": "3.8.16"
  },
  "orig_nbformat": 4
 },
 "nbformat": 4,
 "nbformat_minor": 2
}
