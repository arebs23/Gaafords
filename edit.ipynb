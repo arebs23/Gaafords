{
 "cells": [
  {
   "cell_type": "code",
   "execution_count": 1,
   "metadata": {},
   "outputs": [],
   "source": [
    "# Imports\n",
    "import openai\n",
    "import os\n",
    "import requests\n",
    "from utils import check_affordance_func\n",
    "from typing import List\n",
    "import requests\n",
    "\n",
    "\n",
    "# Notebook Imports\n",
    "from IPython.display import Image\n",
    "from IPython.display import display\n",
    "import matplotlib.pyplot as plt\n",
    "import matplotlib.image as mpimg\n",
    "import random\n",
    "from utils import generate_image\n",
    "from utils import get_completion\n",
    "from pathlib import Path\n",
    "from segment import GibsonSAM\n",
    "from config import CLASSES\n",
    "from dataclasses import dataclass\n",
    "\n"
   ]
  },
  {
   "cell_type": "code",
   "execution_count": 2,
   "metadata": {},
   "outputs": [],
   "source": [
    "@dataclass\n",
    "class ModelConfig:\n",
    "    HOME: str = \"/home/aregbs/Desktop/gibson-afford\"\n",
    "    GROUNDING_DINO_CONFIG_PATH: str = os.path.join(HOME, \"GroundingDINO/groundingdino/config/GroundingDINO_SwinT_OGC.py\")\n",
    "    GROUNDING_DINO_CHECKPOINT_PATH: str = os.path.join(HOME, \"weights\", \"groundingdino_swint_ogc.pth\")\n",
    "    SAM_CHECKPOINT_PATH: str = os.path.join(HOME, \"weights\", \"sam_hq_vit_h.pth\")\n",
    "    SAM_ENCODER_VERSION: str = \"vit_h\""
   ]
  },
  {
   "cell_type": "code",
   "execution_count": 3,
   "metadata": {},
   "outputs": [],
   "source": [
    "os.environ['OPENAI_API_KEY'] = \"\"\n",
    "openai.api_key = os.getenv(\"OPENAI_API_KEY\")"
   ]
  },
  {
   "cell_type": "code",
   "execution_count": 4,
   "metadata": {},
   "outputs": [
    {
     "name": "stderr",
     "output_type": "stream",
     "text": [
      "/home/aregbs/anaconda3/envs/Gaffords/lib/python3.8/site-packages/torch/functional.py:504: UserWarning: torch.meshgrid: in an upcoming release, it will be required to pass the indexing argument. (Triggered internally at /opt/conda/conda-bld/pytorch_1678402379298/work/aten/src/ATen/native/TensorShape.cpp:3483.)\n",
      "  return _VF.meshgrid(tensors, **kwargs)  # type: ignore[attr-defined]\n"
     ]
    },
    {
     "name": "stdout",
     "output_type": "stream",
     "text": [
      "final text_encoder_type: bert-base-uncased\n"
     ]
    },
    {
     "name": "stderr",
     "output_type": "stream",
     "text": [
      "Some weights of the model checkpoint at bert-base-uncased were not used when initializing BertModel: ['cls.predictions.bias', 'cls.predictions.transform.dense.bias', 'cls.predictions.decoder.weight', 'cls.predictions.transform.LayerNorm.bias', 'cls.seq_relationship.bias', 'cls.predictions.transform.LayerNorm.weight', 'cls.predictions.transform.dense.weight', 'cls.seq_relationship.weight']\n",
      "- This IS expected if you are initializing BertModel from the checkpoint of a model trained on another task or with another architecture (e.g. initializing a BertForSequenceClassification model from a BertForPreTraining model).\n",
      "- This IS NOT expected if you are initializing BertModel from the checkpoint of a model that you expect to be exactly identical (initializing a BertForSequenceClassification model from a BertForSequenceClassification model).\n"
     ]
    },
    {
     "name": "stdout",
     "output_type": "stream",
     "text": [
      "<All keys matched successfully>\n"
     ]
    },
    {
     "name": "stderr",
     "output_type": "stream",
     "text": [
      "/home/aregbs/anaconda3/envs/Gaffords/lib/python3.8/site-packages/transformers/modeling_utils.py:862: FutureWarning: The `device` argument is deprecated and will be removed in v5 of Transformers.\n",
      "  warnings.warn(\n",
      "/home/aregbs/anaconda3/envs/Gaffords/lib/python3.8/site-packages/torch/utils/checkpoint.py:31: UserWarning: None of the inputs have requires_grad=True. Gradients will be None\n",
      "  warnings.warn(\"None of the inputs have requires_grad=True. Gradients will be None\")\n"
     ]
    }
   ],
   "source": [
    "image_path= \"/home/aregbs/Desktop/gibson-afford/gen_data/demo/tabletop-scene.png\"\n",
    "output_folder = \"tabletop-scene\"\n",
    "DATA_DIR = Path.cwd() / output_folder\n",
    "\n",
    "DATA_DIR.mkdir(exist_ok=True)\n",
    "\n",
    "gibson = GibsonSAM(image_path, CLASSES, model_config= ModelConfig())\n",
    "labels = gibson.get_image_annotations(DATA_DIR)"
   ]
  },
  {
   "cell_type": "code",
   "execution_count": 5,
   "metadata": {},
   "outputs": [
    {
     "data": {
      "text/plain": [
       "['plate', 'knife', 'mug', 'tomato']"
      ]
     },
     "execution_count": 5,
     "metadata": {},
     "output_type": "execute_result"
    }
   ],
   "source": [
    "labels"
   ]
  },
  {
   "cell_type": "code",
   "execution_count": 6,
   "metadata": {},
   "outputs": [],
   "source": [
    "from pathlib import PosixPath\n",
    "\n",
    "paths = Path(DATA_DIR)\n",
    "paths_ = list(paths.iterdir())"
   ]
  },
  {
   "cell_type": "code",
   "execution_count": 7,
   "metadata": {},
   "outputs": [],
   "source": [
    "def get_completion_func(template, model=\"gpt-3.5-turbo-0613\"):\n",
    "    \"\"\"\n",
    "    params:\n",
    "        prompt (str):\n",
    "        template (str):\n",
    "        return (List[Dict[int, str]])\n",
    "    \"\"\"\n",
    "\n",
    "    messages=[\n",
    "        {\"role\": \"system\", \"content\": \"You are a helpful assistant.\"},\n",
    "        {\"role\": \"user\", \"content\": f\"{template}\"}\n",
    "    ]\n",
    "    response = openai.ChatCompletion.create(\n",
    "        model=model,\n",
    "        messages=messages,\n",
    "        temperature=0 # this is the degree of randomness of the model's output\n",
    "    )\n",
    "    return response.choices[0].message[\"content\"]\n",
    "  "
   ]
  },
  {
   "cell_type": "code",
   "execution_count": 8,
   "metadata": {},
   "outputs": [],
   "source": [
    "def extract_actions(text, paths_list):\n",
    "    def map_paths_to_items(actions, paths_list):\n",
    "        # Create a dictionary that associates each item name with its PosixPath\n",
    "        path_dict = {}\n",
    "        for path in paths_list:\n",
    "            item_name = path.stem  # Extract the item name from the path (e.g., 'tomato' from 'tomato.png')\n",
    "            path_dict[item_name] = str(path)\n",
    "\n",
    "        # Update the list of action dictionaries\n",
    "        for action in actions:\n",
    "            item = action['Performed on'].lower()  # Convert to lowercase to match dictionary keys\n",
    "            path = path_dict.get(item)  # Get the corresponding path, if it exists\n",
    "            if path is not None:\n",
    "                action['Performed on'] = path  # Replace 'Performed on' value with path\n",
    "\n",
    "        return actions\n",
    "\n",
    "    actions = text.split('###')[1:]  # Ignore the first split result because it's empty\n",
    "\n",
    "    # Parse each action into a dictionary\n",
    "    actions_dict = []\n",
    "    for action in actions:\n",
    "        lines = action.split('\\n')\n",
    "        action_dict = {}\n",
    "        for line in lines:\n",
    "            if line.startswith('Performed on:'):\n",
    "                action_dict['Performed on'] = line.split(': ')[1]\n",
    "            elif line.startswith('Effect:'):\n",
    "                action_dict['Effect'] = line.split(': ')[1]\n",
    "        actions_dict.append(action_dict)\n",
    "\n",
    "    # Map the paths to the actions\n",
    "    updated_actions = map_paths_to_items(actions_dict, paths_list)\n",
    "\n",
    "    return updated_actions"
   ]
  },
  {
   "cell_type": "code",
   "execution_count": 9,
   "metadata": {},
   "outputs": [],
   "source": [
    "def process_dalle_images(response, filename, image_dir):\n",
    "    # save the images\n",
    "    urls = [datum[\"url\"] for datum in response[\"data\"]]  # extract URLs\n",
    "    images = [requests.get(url).content for url in urls]  # download images\n",
    "    image_names = [f\"{filename}_{i + 1}.png\" for i in range(len(images))]  # create names\n",
    "    filepaths = [os.path.join(image_dir, name) for name in image_names]  # create filepaths\n",
    "    for image, filepath in zip(images, filepaths):  # loop through the variations\n",
    "        with open(filepath, \"wb\") as image_file:  # open the file\n",
    "            image_file.write(image)  # write the image to the file\n",
    "\n",
    "    return filepaths"
   ]
  },
  {
   "cell_type": "code",
   "execution_count": 10,
   "metadata": {},
   "outputs": [],
   "source": [
    "labels = tuple(labels)"
   ]
  },
  {
   "cell_type": "code",
   "execution_count": 11,
   "metadata": {},
   "outputs": [],
   "source": [
    "environment  = 'tabletop'\n",
    "\n",
    "query_template =  f\"\"\"Imagine {labels} on a {environment} \n",
    "What are the possible interactions between these objects? Specify answer by giving names of Action, object performed on, instrument used to perform the action and the effect on the object. \n",
    "An example is:\n",
    "###\n",
    "Action:Peel\n",
    "Performed on: Onion \n",
    "Instrument: knife\n",
    "Effect: peeled(onion)\n",
    "### \n",
    "present the result in the format of the example starting with ### at the begining Action\n",
    "\"\"\"\n",
    "    "
   ]
  },
  {
   "cell_type": "code",
   "execution_count": 12,
   "metadata": {},
   "outputs": [
    {
     "data": {
      "text/plain": [
       "\"Imagine ('plate', 'knife', 'mug', 'tomato') on a tabletop \\nWhat are the possible interactions between these objects? Specify answer by giving names of Action, object performed on, instrument used to perform the action and the effect on the object. \\nAn example is:\\n###\\nAction:Peel\\nPerformed on: Onion \\nInstrument: knife\\nEffect: peeled(onion)\\n### \\npresent the result in the format of the example starting with ### at the begining Action\\n\""
      ]
     },
     "execution_count": 12,
     "metadata": {},
     "output_type": "execute_result"
    }
   ],
   "source": [
    "query_template"
   ]
  },
  {
   "cell_type": "code",
   "execution_count": 13,
   "metadata": {},
   "outputs": [],
   "source": [
    "afford = get_completion_func(query_template)"
   ]
  },
  {
   "cell_type": "code",
   "execution_count": 14,
   "metadata": {},
   "outputs": [
    {
     "data": {
      "text/plain": [
       "'### Action: Cut\\nPerformed on: Tomato\\nInstrument: Knife\\nEffect: Cut(tomato)\\n\\n### Action: Slice\\nPerformed on: Tomato\\nInstrument: Knife\\nEffect: Sliced(tomato)\\n\\n### Action: Stir\\nPerformed on: Mug\\nInstrument: Spoon\\nEffect: Stirred(mug)\\n\\n### Action: Pour\\nPerformed on: Mug\\nInstrument: None\\nEffect: Filled(mug)\\n\\n### Action: Serve\\nPerformed on: Plate\\nInstrument: None\\nEffect: Placed(tomato) on plate\\n\\n### Action: Place\\nPerformed on: Plate\\nInstrument: None\\nEffect: Placed(knife) on plate\\n\\n### Action: Place\\nPerformed on: Plate\\nInstrument: None\\nEffect: Placed(mug) on plate'"
      ]
     },
     "execution_count": 14,
     "metadata": {},
     "output_type": "execute_result"
    }
   ],
   "source": [
    "afford"
   ]
  },
  {
   "cell_type": "code",
   "execution_count": 15,
   "metadata": {},
   "outputs": [
    {
     "name": "stdout",
     "output_type": "stream",
     "text": [
      "[{'Performed on': '/home/aregbs/Desktop/gibson-afford/gen_data/tabletop-scene/tomato.png', 'Effect': 'Cut(tomato)'}, {'Performed on': '/home/aregbs/Desktop/gibson-afford/gen_data/tabletop-scene/tomato.png', 'Effect': 'Sliced(tomato)'}, {'Performed on': '/home/aregbs/Desktop/gibson-afford/gen_data/tabletop-scene/mug.png', 'Effect': 'Stirred(mug)'}, {'Performed on': '/home/aregbs/Desktop/gibson-afford/gen_data/tabletop-scene/mug.png', 'Effect': 'Filled(mug)'}, {'Performed on': '/home/aregbs/Desktop/gibson-afford/gen_data/tabletop-scene/plate.png', 'Effect': 'Placed(tomato) on plate'}, {'Performed on': '/home/aregbs/Desktop/gibson-afford/gen_data/tabletop-scene/plate.png', 'Effect': 'Placed(knife) on plate'}, {'Performed on': '/home/aregbs/Desktop/gibson-afford/gen_data/tabletop-scene/plate.png', 'Effect': 'Placed(mug) on plate'}]\n"
     ]
    }
   ],
   "source": [
    "updated_actions = extract_actions(afford, paths_)\n",
    "\n",
    "print(updated_actions)"
   ]
  },
  {
   "cell_type": "code",
   "execution_count": 16,
   "metadata": {},
   "outputs": [
    {
     "data": {
      "text/plain": [
       "[{'Performed on': '/home/aregbs/Desktop/gibson-afford/gen_data/tabletop-scene/tomato.png',\n",
       "  'Effect': 'Cut(tomato)'},\n",
       " {'Performed on': '/home/aregbs/Desktop/gibson-afford/gen_data/tabletop-scene/tomato.png',\n",
       "  'Effect': 'Sliced(tomato)'},\n",
       " {'Performed on': '/home/aregbs/Desktop/gibson-afford/gen_data/tabletop-scene/mug.png',\n",
       "  'Effect': 'Stirred(mug)'},\n",
       " {'Performed on': '/home/aregbs/Desktop/gibson-afford/gen_data/tabletop-scene/mug.png',\n",
       "  'Effect': 'Filled(mug)'},\n",
       " {'Performed on': '/home/aregbs/Desktop/gibson-afford/gen_data/tabletop-scene/plate.png',\n",
       "  'Effect': 'Placed(tomato) on plate'},\n",
       " {'Performed on': '/home/aregbs/Desktop/gibson-afford/gen_data/tabletop-scene/plate.png',\n",
       "  'Effect': 'Placed(knife) on plate'},\n",
       " {'Performed on': '/home/aregbs/Desktop/gibson-afford/gen_data/tabletop-scene/plate.png',\n",
       "  'Effect': 'Placed(mug) on plate'}]"
      ]
     },
     "execution_count": 16,
     "metadata": {},
     "output_type": "execute_result"
    }
   ],
   "source": [
    "updated_actions"
   ]
  },
  {
   "cell_type": "code",
   "execution_count": 18,
   "metadata": {},
   "outputs": [
    {
     "data": {
      "text/plain": [
       "'/'"
      ]
     },
     "execution_count": 18,
     "metadata": {},
     "output_type": "execute_result"
    }
   ],
   "source": [
    "mask_path"
   ]
  },
  {
   "cell_type": "code",
   "execution_count": 19,
   "metadata": {},
   "outputs": [
    {
     "name": "stdout",
     "output_type": "stream",
     "text": [
      "Performed on: /home/aregbs/Desktop/gibson-afford/gen_data/tabletop-scene/tomato.png\n",
      "Effect: Cut(tomato)\n",
      "\n",
      "Performed on: /home/aregbs/Desktop/gibson-afford/gen_data/tabletop-scene/tomato.png\n",
      "Effect: Sliced(tomato)\n",
      "\n",
      "Performed on: /home/aregbs/Desktop/gibson-afford/gen_data/tabletop-scene/mug.png\n",
      "Effect: Stirred(mug)\n",
      "\n",
      "Performed on: /home/aregbs/Desktop/gibson-afford/gen_data/tabletop-scene/mug.png\n",
      "Effect: Filled(mug)\n",
      "\n",
      "Performed on: /home/aregbs/Desktop/gibson-afford/gen_data/tabletop-scene/plate.png\n",
      "Effect: Placed(tomato) on plate\n",
      "\n",
      "Performed on: /home/aregbs/Desktop/gibson-afford/gen_data/tabletop-scene/plate.png\n",
      "Effect: Placed(knife) on plate\n",
      "\n",
      "Performed on: /home/aregbs/Desktop/gibson-afford/gen_data/tabletop-scene/plate.png\n",
      "Effect: Placed(mug) on plate\n",
      "\n"
     ]
    }
   ],
   "source": [
    "for edit in updated_actions:\n",
    "    prompt = edit[\"Effect\"]\n",
    "    mask_path = edit[\"Performed on\"]\n",
    "    print(f\"Performed on: {mask_path}\")\n",
    "    print(f\"Effect: {prompt}\\n\")\n",
    "\n",
    "    edit_response = openai.Image.create_edit(\n",
    "        image=open(image_path, \"rb\"),\n",
    "       mask=open(mask_path, \"rb\"), \n",
    "        prompt=prompt,\n",
    "        size=\"512x512\",\n",
    "        response_format=\"url\"\n",
    "    )\n",
    "\n",
    "    edit_filepaths = process_dalle_images(edit_response, f\"Image_{prompt}\", DATA_DIR)"
   ]
  },
  {
   "cell_type": "code",
   "execution_count": null,
   "metadata": {},
   "outputs": [],
   "source": [
    "from pathlib import Path\n",
    "import json\n",
    "\n",
    "def extract_actions(text, paths_list):\n",
    "    def map_paths_to_items(actions, paths_list):\n",
    "        # Create a dictionary that associates each item name with its PosixPath\n",
    "        path_dict = {}\n",
    "        for path in paths_list:\n",
    "            item_name = path.stem  # Extract the item name from the path (e.g., 'tomato' from 'tomato.png')\n",
    "            path_dict[item_name] = str(path)\n",
    "\n",
    "        # Update the list of action dictionaries\n",
    "        for action in actions:\n",
    "            item = action['Performed on'].lower()  # Convert to lowercase to match dictionary keys\n",
    "            path = path_dict.get(item)  # Get the corresponding path, if it exists\n",
    "            if path is not None:\n",
    "                action['Performed on'] = path  # Replace 'Performed on' value with path\n",
    "\n",
    "        return actions\n",
    "\n",
    "    actions = text.split('###')[1:]  # Ignore the first split result because it's empty\n",
    "\n",
    "    # Parse each action into a dictionary\n",
    "    actions_dict = []\n",
    "    for action in actions:\n",
    "        lines = action.split('\\n')\n",
    "        action_dict = {}\n",
    "        for line in lines:\n",
    "            if line.startswith('Performed on:'):\n",
    "                action_dict['Performed on'] = line.split(': ')[1]\n",
    "            elif line.startswith('Effect:'):\n",
    "                action_dict['Effect'] = line.split(': ')[1]\n",
    "        actions_dict.append(action_dict)\n",
    "\n",
    "    # Map the paths to the actions\n",
    "    updated_actions = map_paths_to_items(actions_dict, paths_list)\n",
    "\n",
    "    return updated_actions\n",
    "\n",
    "# Your list of PosixPath objects\n",
    "# Using PosixPath\n",
    "paths_list = [\n",
    "    PosixPath('/home/aregbs/Desktop/gibson-afford/gen_data/tabletop-scene/knife.png'),\n",
    "    PosixPath('/home/aregbs/Desktop/gibson-afford/gen_data/tabletop-scene/mug.png'),\n",
    "    PosixPath('/home/aregbs/Desktop/gibson-afford/gen_data/tabletop-scene/tomato.png'),\n",
    "    PosixPath('/home/aregbs/Desktop/gibson-afford/gen_data/tabletop-scene/plate.png')\n",
    "]\n",
    "\n",
    "\n",
    "# Your action text\n",
    "text = '### Action: Cut\\nPerformed on: Tomato\\nInstrument: Knife\\nEffect: Cut tomato\\n\\n### Action: Slice\\nPerformed on: Tomato\\nInstrument: Knife\\nEffect: Sliced tomato\\n\\n### Action: Pour\\nPerformed on: Mug\\nInstrument: N/A\\nEffect: Filled mug\\n\\n### Action: Place\\nPerformed on: Tomato\\nInstrument: N/A\\nEffect: Placed tomato on plate\\n\\n### Action: Place\\nPerformed on: Mug\\nInstrument: N/A\\nEffect: Placed mug on table\\n\\n### Action: Arrange\\nPerformed on: Plate\\nInstrument: N/A\\nEffect: Arranged objects on plate (plate, knife, mug, tomato)'\n",
    "\n",
    "\n",
    "updated_act = extract_actions(text, paths_list)\n",
    "\n",
    "print(updated_act)\n"
   ]
  },
  {
   "cell_type": "code",
   "execution_count": null,
   "metadata": {},
   "outputs": [],
   "source": [
    "paths_l = [\n",
    " PosixPath('/home/aregbs/Desktop/gibson-afford/gen_data/tabletop-scene/knife.png'),\n",
    " PosixPath('/home/aregbs/Desktop/gibson-afford/gen_data/tabletop-scene/mug.png'),\n",
    " PosixPath('/home/aregbs/Desktop/gibson-afford/gen_data/tabletop-scene/tomatoe.png'),\n",
    " PosixPath('/home/aregbs/Desktop/gibson-afford/gen_data/tabletop-scene/plate.png')\n",
    " \n",
    " ]"
   ]
  },
  {
   "cell_type": "code",
   "execution_count": null,
   "metadata": {},
   "outputs": [],
   "source": [
    "paths_li = [\n",
    "    PosixPath('/home/aregbs/Desktop/gibson-afford/gen_data/tabletop-scene/knife.png'),\n",
    "    PosixPath('/home/aregbs/Desktop/gibson-afford/gen_data/tabletop-scene/mug.png'),\n",
    "    PosixPath('/home/aregbs/Desktop/gibson-afford/gen_data/tabletop-scene/tomato.png'),\n",
    "    PosixPath('/home/aregbs/Desktop/gibson-afford/gen_data/tabletop-scene/plate.png')\n",
    "]\n"
   ]
  },
  {
   "cell_type": "code",
   "execution_count": null,
   "metadata": {},
   "outputs": [],
   "source": [
    "list(paths_)"
   ]
  },
  {
   "cell_type": "code",
   "execution_count": null,
   "metadata": {},
   "outputs": [],
   "source": [
    "extract_actions(text, paths_li)"
   ]
  },
  {
   "cell_type": "code",
   "execution_count": null,
   "metadata": {},
   "outputs": [],
   "source": []
  }
 ],
 "metadata": {
  "kernelspec": {
   "display_name": "Gaffords",
   "language": "python",
   "name": "python3"
  },
  "language_info": {
   "codemirror_mode": {
    "name": "ipython",
    "version": 3
   },
   "file_extension": ".py",
   "mimetype": "text/x-python",
   "name": "python",
   "nbconvert_exporter": "python",
   "pygments_lexer": "ipython3",
   "version": "3.8.16"
  },
  "orig_nbformat": 4
 },
 "nbformat": 4,
 "nbformat_minor": 2
}
